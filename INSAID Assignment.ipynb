{
 "cells": [
  {
   "cell_type": "code",
   "execution_count": 11,
   "id": "055ea885",
   "metadata": {},
   "outputs": [],
   "source": [
    "import numpy as np\n",
    "import pandas as pd\n",
    "import seaborn as sns\n",
    "import matplotlib.pyplot as plt"
   ]
  },
  {
   "cell_type": "markdown",
   "id": "aceb825a",
   "metadata": {},
   "source": [
    "#### Loading Dataset"
   ]
  },
  {
   "cell_type": "code",
   "execution_count": 12,
   "id": "a24dd740",
   "metadata": {},
   "outputs": [],
   "source": [
    "df = pd.read_csv('Fraud.csv')"
   ]
  },
  {
   "cell_type": "code",
   "execution_count": 13,
   "id": "90ca52cd",
   "metadata": {},
   "outputs": [
    {
     "data": {
      "text/plain": [
       "(6362620, 11)"
      ]
     },
     "execution_count": 13,
     "metadata": {},
     "output_type": "execute_result"
    }
   ],
   "source": [
    "df.shape"
   ]
  },
  {
   "cell_type": "code",
   "execution_count": 14,
   "id": "334ae2fe",
   "metadata": {},
   "outputs": [
    {
     "data": {
      "text/html": [
       "<div>\n",
       "<style scoped>\n",
       "    .dataframe tbody tr th:only-of-type {\n",
       "        vertical-align: middle;\n",
       "    }\n",
       "\n",
       "    .dataframe tbody tr th {\n",
       "        vertical-align: top;\n",
       "    }\n",
       "\n",
       "    .dataframe thead th {\n",
       "        text-align: right;\n",
       "    }\n",
       "</style>\n",
       "<table border=\"1\" class=\"dataframe\">\n",
       "  <thead>\n",
       "    <tr style=\"text-align: right;\">\n",
       "      <th></th>\n",
       "      <th>step</th>\n",
       "      <th>type</th>\n",
       "      <th>amount</th>\n",
       "      <th>nameOrig</th>\n",
       "      <th>oldbalanceOrg</th>\n",
       "      <th>newbalanceOrig</th>\n",
       "      <th>nameDest</th>\n",
       "      <th>oldbalanceDest</th>\n",
       "      <th>newbalanceDest</th>\n",
       "      <th>isFraud</th>\n",
       "      <th>isFlaggedFraud</th>\n",
       "    </tr>\n",
       "  </thead>\n",
       "  <tbody>\n",
       "    <tr>\n",
       "      <th>0</th>\n",
       "      <td>1</td>\n",
       "      <td>PAYMENT</td>\n",
       "      <td>9839.64</td>\n",
       "      <td>C1231006815</td>\n",
       "      <td>170136.0</td>\n",
       "      <td>160296.36</td>\n",
       "      <td>M1979787155</td>\n",
       "      <td>0.0</td>\n",
       "      <td>0.0</td>\n",
       "      <td>0</td>\n",
       "      <td>0</td>\n",
       "    </tr>\n",
       "    <tr>\n",
       "      <th>1</th>\n",
       "      <td>1</td>\n",
       "      <td>PAYMENT</td>\n",
       "      <td>1864.28</td>\n",
       "      <td>C1666544295</td>\n",
       "      <td>21249.0</td>\n",
       "      <td>19384.72</td>\n",
       "      <td>M2044282225</td>\n",
       "      <td>0.0</td>\n",
       "      <td>0.0</td>\n",
       "      <td>0</td>\n",
       "      <td>0</td>\n",
       "    </tr>\n",
       "    <tr>\n",
       "      <th>2</th>\n",
       "      <td>1</td>\n",
       "      <td>TRANSFER</td>\n",
       "      <td>181.00</td>\n",
       "      <td>C1305486145</td>\n",
       "      <td>181.0</td>\n",
       "      <td>0.00</td>\n",
       "      <td>C553264065</td>\n",
       "      <td>0.0</td>\n",
       "      <td>0.0</td>\n",
       "      <td>1</td>\n",
       "      <td>0</td>\n",
       "    </tr>\n",
       "    <tr>\n",
       "      <th>3</th>\n",
       "      <td>1</td>\n",
       "      <td>CASH_OUT</td>\n",
       "      <td>181.00</td>\n",
       "      <td>C840083671</td>\n",
       "      <td>181.0</td>\n",
       "      <td>0.00</td>\n",
       "      <td>C38997010</td>\n",
       "      <td>21182.0</td>\n",
       "      <td>0.0</td>\n",
       "      <td>1</td>\n",
       "      <td>0</td>\n",
       "    </tr>\n",
       "    <tr>\n",
       "      <th>4</th>\n",
       "      <td>1</td>\n",
       "      <td>PAYMENT</td>\n",
       "      <td>11668.14</td>\n",
       "      <td>C2048537720</td>\n",
       "      <td>41554.0</td>\n",
       "      <td>29885.86</td>\n",
       "      <td>M1230701703</td>\n",
       "      <td>0.0</td>\n",
       "      <td>0.0</td>\n",
       "      <td>0</td>\n",
       "      <td>0</td>\n",
       "    </tr>\n",
       "  </tbody>\n",
       "</table>\n",
       "</div>"
      ],
      "text/plain": [
       "   step      type    amount     nameOrig  oldbalanceOrg  newbalanceOrig  \\\n",
       "0     1   PAYMENT   9839.64  C1231006815       170136.0       160296.36   \n",
       "1     1   PAYMENT   1864.28  C1666544295        21249.0        19384.72   \n",
       "2     1  TRANSFER    181.00  C1305486145          181.0            0.00   \n",
       "3     1  CASH_OUT    181.00   C840083671          181.0            0.00   \n",
       "4     1   PAYMENT  11668.14  C2048537720        41554.0        29885.86   \n",
       "\n",
       "      nameDest  oldbalanceDest  newbalanceDest  isFraud  isFlaggedFraud  \n",
       "0  M1979787155             0.0             0.0        0               0  \n",
       "1  M2044282225             0.0             0.0        0               0  \n",
       "2   C553264065             0.0             0.0        1               0  \n",
       "3    C38997010         21182.0             0.0        1               0  \n",
       "4  M1230701703             0.0             0.0        0               0  "
      ]
     },
     "execution_count": 14,
     "metadata": {},
     "output_type": "execute_result"
    }
   ],
   "source": [
    "df.head()"
   ]
  },
  {
   "cell_type": "code",
   "execution_count": 15,
   "id": "76a8e7f2",
   "metadata": {},
   "outputs": [
    {
     "name": "stdout",
     "output_type": "stream",
     "text": [
      "<class 'pandas.core.frame.DataFrame'>\n",
      "RangeIndex: 6362620 entries, 0 to 6362619\n",
      "Data columns (total 11 columns):\n",
      " #   Column          Dtype  \n",
      "---  ------          -----  \n",
      " 0   step            int64  \n",
      " 1   type            object \n",
      " 2   amount          float64\n",
      " 3   nameOrig        object \n",
      " 4   oldbalanceOrg   float64\n",
      " 5   newbalanceOrig  float64\n",
      " 6   nameDest        object \n",
      " 7   oldbalanceDest  float64\n",
      " 8   newbalanceDest  float64\n",
      " 9   isFraud         int64  \n",
      " 10  isFlaggedFraud  int64  \n",
      "dtypes: float64(5), int64(3), object(3)\n",
      "memory usage: 534.0+ MB\n"
     ]
    }
   ],
   "source": [
    "df.info()"
   ]
  },
  {
   "cell_type": "code",
   "execution_count": 16,
   "id": "da8dd7ee",
   "metadata": {
    "scrolled": true
   },
   "outputs": [
    {
     "data": {
      "text/html": [
       "<div>\n",
       "<style scoped>\n",
       "    .dataframe tbody tr th:only-of-type {\n",
       "        vertical-align: middle;\n",
       "    }\n",
       "\n",
       "    .dataframe tbody tr th {\n",
       "        vertical-align: top;\n",
       "    }\n",
       "\n",
       "    .dataframe thead th {\n",
       "        text-align: right;\n",
       "    }\n",
       "</style>\n",
       "<table border=\"1\" class=\"dataframe\">\n",
       "  <thead>\n",
       "    <tr style=\"text-align: right;\">\n",
       "      <th></th>\n",
       "      <th>step</th>\n",
       "      <th>amount</th>\n",
       "      <th>oldbalanceOrg</th>\n",
       "      <th>newbalanceOrig</th>\n",
       "      <th>oldbalanceDest</th>\n",
       "      <th>newbalanceDest</th>\n",
       "      <th>isFraud</th>\n",
       "      <th>isFlaggedFraud</th>\n",
       "    </tr>\n",
       "  </thead>\n",
       "  <tbody>\n",
       "    <tr>\n",
       "      <th>count</th>\n",
       "      <td>6.362620e+06</td>\n",
       "      <td>6.362620e+06</td>\n",
       "      <td>6.362620e+06</td>\n",
       "      <td>6.362620e+06</td>\n",
       "      <td>6.362620e+06</td>\n",
       "      <td>6.362620e+06</td>\n",
       "      <td>6.362620e+06</td>\n",
       "      <td>6.362620e+06</td>\n",
       "    </tr>\n",
       "    <tr>\n",
       "      <th>mean</th>\n",
       "      <td>2.433972e+02</td>\n",
       "      <td>1.798619e+05</td>\n",
       "      <td>8.338831e+05</td>\n",
       "      <td>8.551137e+05</td>\n",
       "      <td>1.100702e+06</td>\n",
       "      <td>1.224996e+06</td>\n",
       "      <td>1.290820e-03</td>\n",
       "      <td>2.514687e-06</td>\n",
       "    </tr>\n",
       "    <tr>\n",
       "      <th>std</th>\n",
       "      <td>1.423320e+02</td>\n",
       "      <td>6.038582e+05</td>\n",
       "      <td>2.888243e+06</td>\n",
       "      <td>2.924049e+06</td>\n",
       "      <td>3.399180e+06</td>\n",
       "      <td>3.674129e+06</td>\n",
       "      <td>3.590480e-02</td>\n",
       "      <td>1.585775e-03</td>\n",
       "    </tr>\n",
       "    <tr>\n",
       "      <th>min</th>\n",
       "      <td>1.000000e+00</td>\n",
       "      <td>0.000000e+00</td>\n",
       "      <td>0.000000e+00</td>\n",
       "      <td>0.000000e+00</td>\n",
       "      <td>0.000000e+00</td>\n",
       "      <td>0.000000e+00</td>\n",
       "      <td>0.000000e+00</td>\n",
       "      <td>0.000000e+00</td>\n",
       "    </tr>\n",
       "    <tr>\n",
       "      <th>25%</th>\n",
       "      <td>1.560000e+02</td>\n",
       "      <td>1.338957e+04</td>\n",
       "      <td>0.000000e+00</td>\n",
       "      <td>0.000000e+00</td>\n",
       "      <td>0.000000e+00</td>\n",
       "      <td>0.000000e+00</td>\n",
       "      <td>0.000000e+00</td>\n",
       "      <td>0.000000e+00</td>\n",
       "    </tr>\n",
       "    <tr>\n",
       "      <th>50%</th>\n",
       "      <td>2.390000e+02</td>\n",
       "      <td>7.487194e+04</td>\n",
       "      <td>1.420800e+04</td>\n",
       "      <td>0.000000e+00</td>\n",
       "      <td>1.327057e+05</td>\n",
       "      <td>2.146614e+05</td>\n",
       "      <td>0.000000e+00</td>\n",
       "      <td>0.000000e+00</td>\n",
       "    </tr>\n",
       "    <tr>\n",
       "      <th>75%</th>\n",
       "      <td>3.350000e+02</td>\n",
       "      <td>2.087215e+05</td>\n",
       "      <td>1.073152e+05</td>\n",
       "      <td>1.442584e+05</td>\n",
       "      <td>9.430367e+05</td>\n",
       "      <td>1.111909e+06</td>\n",
       "      <td>0.000000e+00</td>\n",
       "      <td>0.000000e+00</td>\n",
       "    </tr>\n",
       "    <tr>\n",
       "      <th>max</th>\n",
       "      <td>7.430000e+02</td>\n",
       "      <td>9.244552e+07</td>\n",
       "      <td>5.958504e+07</td>\n",
       "      <td>4.958504e+07</td>\n",
       "      <td>3.560159e+08</td>\n",
       "      <td>3.561793e+08</td>\n",
       "      <td>1.000000e+00</td>\n",
       "      <td>1.000000e+00</td>\n",
       "    </tr>\n",
       "  </tbody>\n",
       "</table>\n",
       "</div>"
      ],
      "text/plain": [
       "               step        amount  oldbalanceOrg  newbalanceOrig  \\\n",
       "count  6.362620e+06  6.362620e+06   6.362620e+06    6.362620e+06   \n",
       "mean   2.433972e+02  1.798619e+05   8.338831e+05    8.551137e+05   \n",
       "std    1.423320e+02  6.038582e+05   2.888243e+06    2.924049e+06   \n",
       "min    1.000000e+00  0.000000e+00   0.000000e+00    0.000000e+00   \n",
       "25%    1.560000e+02  1.338957e+04   0.000000e+00    0.000000e+00   \n",
       "50%    2.390000e+02  7.487194e+04   1.420800e+04    0.000000e+00   \n",
       "75%    3.350000e+02  2.087215e+05   1.073152e+05    1.442584e+05   \n",
       "max    7.430000e+02  9.244552e+07   5.958504e+07    4.958504e+07   \n",
       "\n",
       "       oldbalanceDest  newbalanceDest       isFraud  isFlaggedFraud  \n",
       "count    6.362620e+06    6.362620e+06  6.362620e+06    6.362620e+06  \n",
       "mean     1.100702e+06    1.224996e+06  1.290820e-03    2.514687e-06  \n",
       "std      3.399180e+06    3.674129e+06  3.590480e-02    1.585775e-03  \n",
       "min      0.000000e+00    0.000000e+00  0.000000e+00    0.000000e+00  \n",
       "25%      0.000000e+00    0.000000e+00  0.000000e+00    0.000000e+00  \n",
       "50%      1.327057e+05    2.146614e+05  0.000000e+00    0.000000e+00  \n",
       "75%      9.430367e+05    1.111909e+06  0.000000e+00    0.000000e+00  \n",
       "max      3.560159e+08    3.561793e+08  1.000000e+00    1.000000e+00  "
      ]
     },
     "execution_count": 16,
     "metadata": {},
     "output_type": "execute_result"
    }
   ],
   "source": [
    "df.describe()"
   ]
  },
  {
   "cell_type": "code",
   "execution_count": 17,
   "id": "ac337464",
   "metadata": {},
   "outputs": [
    {
     "data": {
      "text/plain": [
       "step              0\n",
       "type              0\n",
       "amount            0\n",
       "nameOrig          0\n",
       "oldbalanceOrg     0\n",
       "newbalanceOrig    0\n",
       "nameDest          0\n",
       "oldbalanceDest    0\n",
       "newbalanceDest    0\n",
       "isFraud           0\n",
       "isFlaggedFraud    0\n",
       "dtype: int64"
      ]
     },
     "execution_count": 17,
     "metadata": {},
     "output_type": "execute_result"
    }
   ],
   "source": [
    "df.isnull().sum()"
   ]
  },
  {
   "cell_type": "markdown",
   "id": "9c521ce7",
   "metadata": {},
   "source": [
    "#### Checking for imbalance"
   ]
  },
  {
   "cell_type": "code",
   "execution_count": 18,
   "id": "094e671b",
   "metadata": {},
   "outputs": [
    {
     "data": {
      "text/plain": [
       "count    6.362620e+06\n",
       "mean     1.290820e-03\n",
       "std      3.590480e-02\n",
       "min      0.000000e+00\n",
       "25%      0.000000e+00\n",
       "50%      0.000000e+00\n",
       "75%      0.000000e+00\n",
       "max      1.000000e+00\n",
       "Name: isFraud, dtype: float64"
      ]
     },
     "execution_count": 18,
     "metadata": {},
     "output_type": "execute_result"
    }
   ],
   "source": [
    "df.isFraud.describe()"
   ]
  },
  {
   "cell_type": "code",
   "execution_count": 19,
   "id": "bb370f8d",
   "metadata": {},
   "outputs": [
    {
     "name": "stdout",
     "output_type": "stream",
     "text": [
      "No Frauds: 99.87091795518198\n",
      "Frauds: 0.12908204481801522\n"
     ]
    }
   ],
   "source": [
    "print(\"No Frauds:\",df['isFraud'].value_counts()[0]/len(df['isFraud'])*100)\n",
    "print(\"Frauds:\",df['isFraud'].value_counts()[1]/len(df['isFraud'])*100)"
   ]
  },
  {
   "cell_type": "markdown",
   "id": "d058dae5",
   "metadata": {},
   "source": [
    "#### PS the data is heavily imbalanced, i.e only 0.12% values are mentioned fraud"
   ]
  },
  {
   "cell_type": "markdown",
   "id": "8e1351ff",
   "metadata": {},
   "source": [
    "#### Let's first analyse the numerical variables"
   ]
  },
  {
   "cell_type": "code",
   "execution_count": 20,
   "id": "c5030b5d",
   "metadata": {},
   "outputs": [
    {
     "data": {
      "text/html": [
       "<div>\n",
       "<style scoped>\n",
       "    .dataframe tbody tr th:only-of-type {\n",
       "        vertical-align: middle;\n",
       "    }\n",
       "\n",
       "    .dataframe tbody tr th {\n",
       "        vertical-align: top;\n",
       "    }\n",
       "\n",
       "    .dataframe thead th {\n",
       "        text-align: right;\n",
       "    }\n",
       "</style>\n",
       "<table border=\"1\" class=\"dataframe\">\n",
       "  <thead>\n",
       "    <tr style=\"text-align: right;\">\n",
       "      <th></th>\n",
       "      <th>step</th>\n",
       "      <th>type</th>\n",
       "      <th>amount</th>\n",
       "      <th>nameOrig</th>\n",
       "      <th>oldbalanceOrg</th>\n",
       "      <th>newbalanceOrig</th>\n",
       "      <th>nameDest</th>\n",
       "      <th>oldbalanceDest</th>\n",
       "      <th>newbalanceDest</th>\n",
       "      <th>isFraud</th>\n",
       "      <th>isFlaggedFraud</th>\n",
       "    </tr>\n",
       "  </thead>\n",
       "  <tbody>\n",
       "    <tr>\n",
       "      <th>0</th>\n",
       "      <td>1</td>\n",
       "      <td>PAYMENT</td>\n",
       "      <td>9839.64</td>\n",
       "      <td>C1231006815</td>\n",
       "      <td>170136.0</td>\n",
       "      <td>160296.36</td>\n",
       "      <td>M1979787155</td>\n",
       "      <td>0.0</td>\n",
       "      <td>0.0</td>\n",
       "      <td>0</td>\n",
       "      <td>0</td>\n",
       "    </tr>\n",
       "    <tr>\n",
       "      <th>1</th>\n",
       "      <td>1</td>\n",
       "      <td>PAYMENT</td>\n",
       "      <td>1864.28</td>\n",
       "      <td>C1666544295</td>\n",
       "      <td>21249.0</td>\n",
       "      <td>19384.72</td>\n",
       "      <td>M2044282225</td>\n",
       "      <td>0.0</td>\n",
       "      <td>0.0</td>\n",
       "      <td>0</td>\n",
       "      <td>0</td>\n",
       "    </tr>\n",
       "    <tr>\n",
       "      <th>2</th>\n",
       "      <td>1</td>\n",
       "      <td>TRANSFER</td>\n",
       "      <td>181.00</td>\n",
       "      <td>C1305486145</td>\n",
       "      <td>181.0</td>\n",
       "      <td>0.00</td>\n",
       "      <td>C553264065</td>\n",
       "      <td>0.0</td>\n",
       "      <td>0.0</td>\n",
       "      <td>1</td>\n",
       "      <td>0</td>\n",
       "    </tr>\n",
       "    <tr>\n",
       "      <th>3</th>\n",
       "      <td>1</td>\n",
       "      <td>CASH_OUT</td>\n",
       "      <td>181.00</td>\n",
       "      <td>C840083671</td>\n",
       "      <td>181.0</td>\n",
       "      <td>0.00</td>\n",
       "      <td>C38997010</td>\n",
       "      <td>21182.0</td>\n",
       "      <td>0.0</td>\n",
       "      <td>1</td>\n",
       "      <td>0</td>\n",
       "    </tr>\n",
       "    <tr>\n",
       "      <th>4</th>\n",
       "      <td>1</td>\n",
       "      <td>PAYMENT</td>\n",
       "      <td>11668.14</td>\n",
       "      <td>C2048537720</td>\n",
       "      <td>41554.0</td>\n",
       "      <td>29885.86</td>\n",
       "      <td>M1230701703</td>\n",
       "      <td>0.0</td>\n",
       "      <td>0.0</td>\n",
       "      <td>0</td>\n",
       "      <td>0</td>\n",
       "    </tr>\n",
       "  </tbody>\n",
       "</table>\n",
       "</div>"
      ],
      "text/plain": [
       "   step      type    amount     nameOrig  oldbalanceOrg  newbalanceOrig  \\\n",
       "0     1   PAYMENT   9839.64  C1231006815       170136.0       160296.36   \n",
       "1     1   PAYMENT   1864.28  C1666544295        21249.0        19384.72   \n",
       "2     1  TRANSFER    181.00  C1305486145          181.0            0.00   \n",
       "3     1  CASH_OUT    181.00   C840083671          181.0            0.00   \n",
       "4     1   PAYMENT  11668.14  C2048537720        41554.0        29885.86   \n",
       "\n",
       "      nameDest  oldbalanceDest  newbalanceDest  isFraud  isFlaggedFraud  \n",
       "0  M1979787155             0.0             0.0        0               0  \n",
       "1  M2044282225             0.0             0.0        0               0  \n",
       "2   C553264065             0.0             0.0        1               0  \n",
       "3    C38997010         21182.0             0.0        1               0  \n",
       "4  M1230701703             0.0             0.0        0               0  "
      ]
     },
     "execution_count": 20,
     "metadata": {},
     "output_type": "execute_result"
    }
   ],
   "source": [
    "df.head()"
   ]
  },
  {
   "cell_type": "code",
   "execution_count": 21,
   "id": "6e2baacb",
   "metadata": {},
   "outputs": [
    {
     "data": {
      "image/png": "[encoded data removed]",
      "text/plain": [
       "<Figure size 1440x216 with 1 Axes>"
      ]
     },
     "metadata": {
      "needs_background": "light"
     },
     "output_type": "display_data"
    }
   ],
   "source": [
    "# Boxplot of 'oldbalanceOrg'\n",
    "plt.figure(figsize=(20,3))\n",
    "sns.boxplot(data=df, x='oldbalanceOrg')\n",
    "plt.show()"
   ]
  },
  {
   "cell_type": "code",
   "execution_count": 22,
   "id": "4c6ff408",
   "metadata": {},
   "outputs": [
    {
     "data": {
      "image/png": "[encoded data removed]",
      "text/plain": [
       "<Figure size 1440x216 with 1 Axes>"
      ]
     },
     "metadata": {
      "needs_background": "light"
     },
     "output_type": "display_data"
    }
   ],
   "source": [
    "# Boxplot of 'newbalanceOrig'\n",
    "plt.figure(figsize=(20,3))\n",
    "sns.boxplot(data=df, x='newbalanceOrig')\n",
    "plt.show()"
   ]
  },
  {
   "cell_type": "code",
   "execution_count": 23,
   "id": "bb6d7b96",
   "metadata": {},
   "outputs": [
    {
     "data": {
      "image/png": "[encoded data removed]",
      "text/plain": [
       "<Figure size 1440x216 with 1 Axes>"
      ]
     },
     "metadata": {
      "needs_background": "light"
     },
     "output_type": "display_data"
    }
   ],
   "source": [
    "# Boxplot of 'amount'\n",
    "plt.figure(figsize=(20,3))\n",
    "sns.boxplot(data=df, x='amount')\n",
    "plt.show()"
   ]
  },
  {
   "cell_type": "code",
   "execution_count": 24,
   "id": "ee5c9879",
   "metadata": {},
   "outputs": [
    {
     "data": {
      "image/png": "[encoded data removed]",
      "text/plain": [
       "<Figure size 1440x216 with 1 Axes>"
      ]
     },
     "metadata": {
      "needs_background": "light"
     },
     "output_type": "display_data"
    }
   ],
   "source": [
    "# Boxplot of 'oldbalanceDest'\n",
    "plt.figure(figsize=(20,3))\n",
    "sns.boxplot(data=df, x='oldbalanceDest')\n",
    "plt.show()"
   ]
  },
  {
   "cell_type": "code",
   "execution_count": 25,
   "id": "ea7c87de",
   "metadata": {},
   "outputs": [
    {
     "data": {
      "image/png": "[encoded data removed]",
      "text/plain": [
       "<Figure size 1440x216 with 1 Axes>"
      ]
     },
     "metadata": {
      "needs_background": "light"
     },
     "output_type": "display_data"
    }
   ],
   "source": [
    "# Box plot of 'newbalanceDest'\n",
    "plt.figure(figsize=(20,3))\n",
    "sns.boxplot(data=df, x='newbalanceDest')\n",
    "plt.show()"
   ]
  },
  {
   "cell_type": "markdown",
   "id": "0ffa8c9e",
   "metadata": {},
   "source": [
    "#### Balance for the payer and the reciever will keep varying and will have a wide range, cannot really do much about these"
   ]
  },
  {
   "cell_type": "markdown",
   "id": "c796cafd",
   "metadata": {},
   "source": [
    "#### Analysing other categorical variables"
   ]
  },
  {
   "cell_type": "code",
   "execution_count": 26,
   "id": "664ced68",
   "metadata": {},
   "outputs": [
    {
     "data": {
      "image/png": "[encoded data removed]",
      "text/plain": [
       "<Figure size 504x216 with 1 Axes>"
      ]
     },
     "metadata": {
      "needs_background": "light"
     },
     "output_type": "display_data"
    }
   ],
   "source": [
    "# Countplot of 'type'\n",
    "plt.figure(figsize=(7,3))\n",
    "plt.title('type vs count')\n",
    "sns.countplot(data=df,x='type',palette='coolwarm')\n",
    "plt.xlabel('Type')\n",
    "plt.ylabel('Count')\n",
    "plt.show()"
   ]
  },
  {
   "cell_type": "code",
   "execution_count": 27,
   "id": "9cb36110",
   "metadata": {},
   "outputs": [
    {
     "data": {
      "image/png": "[encoded data removed]",
      "text/plain": [
       "<Figure size 504x216 with 1 Axes>"
      ]
     },
     "metadata": {
      "needs_background": "light"
     },
     "output_type": "display_data"
    }
   ],
   "source": [
    "# Countplot of 'isFraud'\n",
    "plt.figure(figsize=(7,3))\n",
    "plt.title('isFraud vs count')\n",
    "sns.countplot(data=df,x='isFraud')\n",
    "plt.xlabel('isFraud')\n",
    "plt.ylabel('Count')\n",
    "plt.show()"
   ]
  },
  {
   "cell_type": "markdown",
   "id": "9b0dc08a",
   "metadata": {},
   "source": [
    "#### Feature engineering & selection"
   ]
  },
  {
   "cell_type": "code",
   "execution_count": 28,
   "id": "ce90c0c0",
   "metadata": {},
   "outputs": [],
   "source": [
    "# dropping unnecesaary columns\n",
    "\n",
    "df.drop(['nameOrig','nameDest','isFlaggedFraud'],axis=1,inplace=True)"
   ]
  },
  {
   "cell_type": "code",
   "execution_count": 29,
   "id": "e23ca85a",
   "metadata": {},
   "outputs": [
    {
     "data": {
      "text/html": [
       "<div>\n",
       "<style scoped>\n",
       "    .dataframe tbody tr th:only-of-type {\n",
       "        vertical-align: middle;\n",
       "    }\n",
       "\n",
       "    .dataframe tbody tr th {\n",
       "        vertical-align: top;\n",
       "    }\n",
       "\n",
       "    .dataframe thead th {\n",
       "        text-align: right;\n",
       "    }\n",
       "</style>\n",
       "<table border=\"1\" class=\"dataframe\">\n",
       "  <thead>\n",
       "    <tr style=\"text-align: right;\">\n",
       "      <th></th>\n",
       "      <th>step</th>\n",
       "      <th>amount</th>\n",
       "      <th>oldbalanceOrg</th>\n",
       "      <th>newbalanceOrig</th>\n",
       "      <th>oldbalanceDest</th>\n",
       "      <th>newbalanceDest</th>\n",
       "      <th>isFraud</th>\n",
       "      <th>type_CASH_OUT</th>\n",
       "      <th>type_DEBIT</th>\n",
       "      <th>type_PAYMENT</th>\n",
       "      <th>type_TRANSFER</th>\n",
       "    </tr>\n",
       "  </thead>\n",
       "  <tbody>\n",
       "    <tr>\n",
       "      <th>0</th>\n",
       "      <td>1</td>\n",
       "      <td>9839.64</td>\n",
       "      <td>170136.0</td>\n",
       "      <td>160296.36</td>\n",
       "      <td>0.0</td>\n",
       "      <td>0.0</td>\n",
       "      <td>0</td>\n",
       "      <td>0</td>\n",
       "      <td>0</td>\n",
       "      <td>1</td>\n",
       "      <td>0</td>\n",
       "    </tr>\n",
       "    <tr>\n",
       "      <th>1</th>\n",
       "      <td>1</td>\n",
       "      <td>1864.28</td>\n",
       "      <td>21249.0</td>\n",
       "      <td>19384.72</td>\n",
       "      <td>0.0</td>\n",
       "      <td>0.0</td>\n",
       "      <td>0</td>\n",
       "      <td>0</td>\n",
       "      <td>0</td>\n",
       "      <td>1</td>\n",
       "      <td>0</td>\n",
       "    </tr>\n",
       "    <tr>\n",
       "      <th>2</th>\n",
       "      <td>1</td>\n",
       "      <td>181.00</td>\n",
       "      <td>181.0</td>\n",
       "      <td>0.00</td>\n",
       "      <td>0.0</td>\n",
       "      <td>0.0</td>\n",
       "      <td>1</td>\n",
       "      <td>0</td>\n",
       "      <td>0</td>\n",
       "      <td>0</td>\n",
       "      <td>1</td>\n",
       "    </tr>\n",
       "    <tr>\n",
       "      <th>3</th>\n",
       "      <td>1</td>\n",
       "      <td>181.00</td>\n",
       "      <td>181.0</td>\n",
       "      <td>0.00</td>\n",
       "      <td>21182.0</td>\n",
       "      <td>0.0</td>\n",
       "      <td>1</td>\n",
       "      <td>1</td>\n",
       "      <td>0</td>\n",
       "      <td>0</td>\n",
       "      <td>0</td>\n",
       "    </tr>\n",
       "    <tr>\n",
       "      <th>4</th>\n",
       "      <td>1</td>\n",
       "      <td>11668.14</td>\n",
       "      <td>41554.0</td>\n",
       "      <td>29885.86</td>\n",
       "      <td>0.0</td>\n",
       "      <td>0.0</td>\n",
       "      <td>0</td>\n",
       "      <td>0</td>\n",
       "      <td>0</td>\n",
       "      <td>1</td>\n",
       "      <td>0</td>\n",
       "    </tr>\n",
       "  </tbody>\n",
       "</table>\n",
       "</div>"
      ],
      "text/plain": [
       "   step    amount  oldbalanceOrg  newbalanceOrig  oldbalanceDest  \\\n",
       "0     1   9839.64       170136.0       160296.36             0.0   \n",
       "1     1   1864.28        21249.0        19384.72             0.0   \n",
       "2     1    181.00          181.0            0.00             0.0   \n",
       "3     1    181.00          181.0            0.00         21182.0   \n",
       "4     1  11668.14        41554.0        29885.86             0.0   \n",
       "\n",
       "   newbalanceDest  isFraud  type_CASH_OUT  type_DEBIT  type_PAYMENT  \\\n",
       "0             0.0        0              0           0             1   \n",
       "1             0.0        0              0           0             1   \n",
       "2             0.0        1              0           0             0   \n",
       "3             0.0        1              1           0             0   \n",
       "4             0.0        0              0           0             1   \n",
       "\n",
       "   type_TRANSFER  \n",
       "0              0  \n",
       "1              0  \n",
       "2              1  \n",
       "3              0  \n",
       "4              0  "
      ]
     },
     "execution_count": 29,
     "metadata": {},
     "output_type": "execute_result"
    }
   ],
   "source": [
    "# transorming categorical variables, assigning them dummy\n",
    "\n",
    "df=pd.get_dummies(data=df,columns=['type'],drop_first=True)\n",
    "df.head()"
   ]
  },
  {
   "cell_type": "code",
   "execution_count": 30,
   "id": "d6502abb",
   "metadata": {},
   "outputs": [],
   "source": [
    "# Creating independent and dependent feature distinction\n",
    "\n",
    "columns = df.columns.tolist()\n",
    "columns = [c for c in columns if c not in ['isFraud']]\n",
    "target = 'isFraud'\n",
    "\n",
    "state = np.random.RandomState(40)\n",
    "\n",
    "X = df[columns]\n",
    "Y = df[target]"
   ]
  },
  {
   "cell_type": "code",
   "execution_count": 31,
   "id": "4e5af502",
   "metadata": {},
   "outputs": [
    {
     "data": {
      "text/plain": [
       "(6362620, 10)"
      ]
     },
     "execution_count": 31,
     "metadata": {},
     "output_type": "execute_result"
    }
   ],
   "source": [
    "X.shape"
   ]
  },
  {
   "cell_type": "code",
   "execution_count": 32,
   "id": "efe4c5e9",
   "metadata": {},
   "outputs": [
    {
     "data": {
      "text/html": [
       "<div>\n",
       "<style scoped>\n",
       "    .dataframe tbody tr th:only-of-type {\n",
       "        vertical-align: middle;\n",
       "    }\n",
       "\n",
       "    .dataframe tbody tr th {\n",
       "        vertical-align: top;\n",
       "    }\n",
       "\n",
       "    .dataframe thead th {\n",
       "        text-align: right;\n",
       "    }\n",
       "</style>\n",
       "<table border=\"1\" class=\"dataframe\">\n",
       "  <thead>\n",
       "    <tr style=\"text-align: right;\">\n",
       "      <th></th>\n",
       "      <th>step</th>\n",
       "      <th>amount</th>\n",
       "      <th>oldbalanceOrg</th>\n",
       "      <th>newbalanceOrig</th>\n",
       "      <th>oldbalanceDest</th>\n",
       "      <th>newbalanceDest</th>\n",
       "      <th>type_CASH_OUT</th>\n",
       "      <th>type_DEBIT</th>\n",
       "      <th>type_PAYMENT</th>\n",
       "      <th>type_TRANSFER</th>\n",
       "    </tr>\n",
       "  </thead>\n",
       "  <tbody>\n",
       "    <tr>\n",
       "      <th>0</th>\n",
       "      <td>1</td>\n",
       "      <td>9839.64</td>\n",
       "      <td>170136.0</td>\n",
       "      <td>160296.36</td>\n",
       "      <td>0.0</td>\n",
       "      <td>0.0</td>\n",
       "      <td>0</td>\n",
       "      <td>0</td>\n",
       "      <td>1</td>\n",
       "      <td>0</td>\n",
       "    </tr>\n",
       "    <tr>\n",
       "      <th>1</th>\n",
       "      <td>1</td>\n",
       "      <td>1864.28</td>\n",
       "      <td>21249.0</td>\n",
       "      <td>19384.72</td>\n",
       "      <td>0.0</td>\n",
       "      <td>0.0</td>\n",
       "      <td>0</td>\n",
       "      <td>0</td>\n",
       "      <td>1</td>\n",
       "      <td>0</td>\n",
       "    </tr>\n",
       "    <tr>\n",
       "      <th>2</th>\n",
       "      <td>1</td>\n",
       "      <td>181.00</td>\n",
       "      <td>181.0</td>\n",
       "      <td>0.00</td>\n",
       "      <td>0.0</td>\n",
       "      <td>0.0</td>\n",
       "      <td>0</td>\n",
       "      <td>0</td>\n",
       "      <td>0</td>\n",
       "      <td>1</td>\n",
       "    </tr>\n",
       "    <tr>\n",
       "      <th>3</th>\n",
       "      <td>1</td>\n",
       "      <td>181.00</td>\n",
       "      <td>181.0</td>\n",
       "      <td>0.00</td>\n",
       "      <td>21182.0</td>\n",
       "      <td>0.0</td>\n",
       "      <td>1</td>\n",
       "      <td>0</td>\n",
       "      <td>0</td>\n",
       "      <td>0</td>\n",
       "    </tr>\n",
       "    <tr>\n",
       "      <th>4</th>\n",
       "      <td>1</td>\n",
       "      <td>11668.14</td>\n",
       "      <td>41554.0</td>\n",
       "      <td>29885.86</td>\n",
       "      <td>0.0</td>\n",
       "      <td>0.0</td>\n",
       "      <td>0</td>\n",
       "      <td>0</td>\n",
       "      <td>1</td>\n",
       "      <td>0</td>\n",
       "    </tr>\n",
       "  </tbody>\n",
       "</table>\n",
       "</div>"
      ],
      "text/plain": [
       "   step    amount  oldbalanceOrg  newbalanceOrig  oldbalanceDest  \\\n",
       "0     1   9839.64       170136.0       160296.36             0.0   \n",
       "1     1   1864.28        21249.0        19384.72             0.0   \n",
       "2     1    181.00          181.0            0.00             0.0   \n",
       "3     1    181.00          181.0            0.00         21182.0   \n",
       "4     1  11668.14        41554.0        29885.86             0.0   \n",
       "\n",
       "   newbalanceDest  type_CASH_OUT  type_DEBIT  type_PAYMENT  type_TRANSFER  \n",
       "0             0.0              0           0             1              0  \n",
       "1             0.0              0           0             1              0  \n",
       "2             0.0              0           0             0              1  \n",
       "3             0.0              1           0             0              0  \n",
       "4             0.0              0           0             1              0  "
      ]
     },
     "execution_count": 32,
     "metadata": {},
     "output_type": "execute_result"
    }
   ],
   "source": [
    "X.head()"
   ]
  },
  {
   "cell_type": "code",
   "execution_count": 33,
   "id": "c706ae16",
   "metadata": {},
   "outputs": [
    {
     "data": {
      "text/plain": [
       "(6362620,)"
      ]
     },
     "execution_count": 33,
     "metadata": {},
     "output_type": "execute_result"
    }
   ],
   "source": [
    "Y.shape"
   ]
  },
  {
   "cell_type": "markdown",
   "id": "4f7b30f0",
   "metadata": {},
   "source": [
    "#### Moving on to balance the data set since the dataset is free from null values and unwanted oitliers. We will use imblearn library of Python"
   ]
  },
  {
   "cell_type": "markdown",
   "id": "a407e718",
   "metadata": {},
   "source": [
    "#### We will be using oversampling as undersampling might result in loss of a large amount of data and thus lead to underfitting"
   ]
  },
  {
   "cell_type": "code",
   "execution_count": 34,
   "id": "fd4e4ed6",
   "metadata": {},
   "outputs": [],
   "source": [
    "#from imblearn.combine import SMOTETomek"
   ]
  },
  {
   "cell_type": "code",
   "execution_count": 35,
   "id": "35ac541d",
   "metadata": {},
   "outputs": [],
   "source": [
    "#smk = SMOTETomek(random_state=40)\n",
    "#X_res, y_res = smk.fit_resample(X,Y)"
   ]
  },
  {
   "cell_type": "code",
   "execution_count": 36,
   "id": "e1378b64",
   "metadata": {},
   "outputs": [],
   "source": [
    "from imblearn.over_sampling import RandomOverSampler"
   ]
  },
  {
   "cell_type": "code",
   "execution_count": 37,
   "id": "a5e5a07e",
   "metadata": {},
   "outputs": [],
   "source": [
    "# Oversampling now\n",
    "\n",
    "ros = RandomOverSampler(sampling_strategy = 'not majority')"
   ]
  },
  {
   "cell_type": "code",
   "execution_count": 38,
   "id": "d0bae4b5",
   "metadata": {},
   "outputs": [],
   "source": [
    "X_res, y_res = ros.fit_resample(X,Y)"
   ]
  },
  {
   "cell_type": "code",
   "execution_count": 39,
   "id": "bcac3bdf",
   "metadata": {
    "scrolled": false
   },
   "outputs": [
    {
     "data": {
      "text/plain": [
       "(          step      amount  oldbalanceOrg  newbalanceOrig  oldbalanceDest  \\\n",
       " 0            1     9839.64      170136.00       160296.36            0.00   \n",
       " 1            1     1864.28       21249.00        19384.72            0.00   \n",
       " 2            1      181.00         181.00            0.00            0.00   \n",
       " 3            1      181.00         181.00            0.00        21182.00   \n",
       " 4            1    11668.14       41554.00        29885.86            0.00   \n",
       " ...        ...         ...            ...             ...             ...   \n",
       " 12708809    79   353045.35      353045.35            0.00            0.00   \n",
       " 12708810   387        0.00           0.00            0.00      7970766.57   \n",
       " 12708811   102   548335.12      548335.12            0.00      6534669.47   \n",
       " 12708812   559  1431634.93     1431634.93            0.00            0.00   \n",
       " 12708813   212   296699.39      296699.39            0.00       162636.95   \n",
       " \n",
       "           newbalanceDest  type_CASH_OUT  type_DEBIT  type_PAYMENT  \\\n",
       " 0                   0.00              0           0             1   \n",
       " 1                   0.00              0           0             1   \n",
       " 2                   0.00              0           0             0   \n",
       " 3                   0.00              1           0             0   \n",
       " 4                   0.00              0           0             1   \n",
       " ...                  ...            ...         ...           ...   \n",
       " 12708809            0.00              0           0             0   \n",
       " 12708810      7970766.57              1           0             0   \n",
       " 12708811      7083004.60              1           0             0   \n",
       " 12708812      1431634.93              1           0             0   \n",
       " 12708813       459336.34              1           0             0   \n",
       " \n",
       "           type_TRANSFER  \n",
       " 0                     0  \n",
       " 1                     0  \n",
       " 2                     1  \n",
       " 3                     0  \n",
       " 4                     0  \n",
       " ...                 ...  \n",
       " 12708809              1  \n",
       " 12708810              0  \n",
       " 12708811              0  \n",
       " 12708812              0  \n",
       " 12708813              0  \n",
       " \n",
       " [12708814 rows x 10 columns],\n",
       " 0           0\n",
       " 1           0\n",
       " 2           1\n",
       " 3           1\n",
       " 4           0\n",
       "            ..\n",
       " 12708809    1\n",
       " 12708810    1\n",
       " 12708811    1\n",
       " 12708812    1\n",
       " 12708813    1\n",
       " Name: isFraud, Length: 12708814, dtype: int64)"
      ]
     },
     "execution_count": 39,
     "metadata": {},
     "output_type": "execute_result"
    }
   ],
   "source": [
    "X_res, y_res"
   ]
  },
  {
   "cell_type": "code",
   "execution_count": 40,
   "id": "067eb1e8",
   "metadata": {
    "scrolled": true
   },
   "outputs": [
    {
     "data": {
      "image/png": "[encoded data removed]",
      "text/plain": [
       "<Figure size 432x288 with 1 Axes>"
      ]
     },
     "metadata": {},
     "output_type": "display_data"
    }
   ],
   "source": [
    "# Rechecking for the imbalances\n",
    "\n",
    "ax = y_res.value_counts().plot.pie()"
   ]
  },
  {
   "cell_type": "code",
   "execution_count": 41,
   "id": "01fa7a37",
   "metadata": {
    "scrolled": true
   },
   "outputs": [
    {
     "data": {
      "text/plain": [
       "(12708814, 10)"
      ]
     },
     "execution_count": 41,
     "metadata": {},
     "output_type": "execute_result"
    }
   ],
   "source": [
    "X_res.shape"
   ]
  },
  {
   "cell_type": "code",
   "execution_count": 42,
   "id": "cb6acbfc",
   "metadata": {},
   "outputs": [],
   "source": [
    "# Splitting data into train & test samples\n",
    "\n",
    "from sklearn.model_selection import train_test_split"
   ]
  },
  {
   "cell_type": "code",
   "execution_count": 43,
   "id": "fd2010c4",
   "metadata": {},
   "outputs": [],
   "source": [
    "X_train, X_test, y_train, y_test = train_test_split(X_res, y_res)"
   ]
  },
  {
   "cell_type": "code",
   "execution_count": 44,
   "id": "0916528e",
   "metadata": {},
   "outputs": [
    {
     "data": {
      "text/html": [
       "<div>\n",
       "<style scoped>\n",
       "    .dataframe tbody tr th:only-of-type {\n",
       "        vertical-align: middle;\n",
       "    }\n",
       "\n",
       "    .dataframe tbody tr th {\n",
       "        vertical-align: top;\n",
       "    }\n",
       "\n",
       "    .dataframe thead th {\n",
       "        text-align: right;\n",
       "    }\n",
       "</style>\n",
       "<table border=\"1\" class=\"dataframe\">\n",
       "  <thead>\n",
       "    <tr style=\"text-align: right;\">\n",
       "      <th></th>\n",
       "      <th>step</th>\n",
       "      <th>amount</th>\n",
       "      <th>oldbalanceOrg</th>\n",
       "      <th>newbalanceOrig</th>\n",
       "      <th>oldbalanceDest</th>\n",
       "      <th>newbalanceDest</th>\n",
       "      <th>type_CASH_OUT</th>\n",
       "      <th>type_DEBIT</th>\n",
       "      <th>type_PAYMENT</th>\n",
       "      <th>type_TRANSFER</th>\n",
       "    </tr>\n",
       "  </thead>\n",
       "  <tbody>\n",
       "    <tr>\n",
       "      <th>6778874</th>\n",
       "      <td>-1.048583</td>\n",
       "      <td>0.236053</td>\n",
       "      <td>0.219542</td>\n",
       "      <td>0.00</td>\n",
       "      <td>1.865275</td>\n",
       "      <td>1.031725</td>\n",
       "      <td>1</td>\n",
       "      <td>0</td>\n",
       "      <td>0</td>\n",
       "      <td>0</td>\n",
       "    </tr>\n",
       "    <tr>\n",
       "      <th>12540449</th>\n",
       "      <td>-0.421053</td>\n",
       "      <td>2.623441</td>\n",
       "      <td>1.748311</td>\n",
       "      <td>0.00</td>\n",
       "      <td>0.000000</td>\n",
       "      <td>-0.113732</td>\n",
       "      <td>0</td>\n",
       "      <td>0</td>\n",
       "      <td>0</td>\n",
       "      <td>1</td>\n",
       "    </tr>\n",
       "    <tr>\n",
       "      <th>8720626</th>\n",
       "      <td>1.453441</td>\n",
       "      <td>-0.277012</td>\n",
       "      <td>-0.109000</td>\n",
       "      <td>0.00</td>\n",
       "      <td>0.000000</td>\n",
       "      <td>-0.083754</td>\n",
       "      <td>1</td>\n",
       "      <td>0</td>\n",
       "      <td>0</td>\n",
       "      <td>0</td>\n",
       "    </tr>\n",
       "    <tr>\n",
       "      <th>3224522</th>\n",
       "      <td>-0.133603</td>\n",
       "      <td>0.758325</td>\n",
       "      <td>-0.142745</td>\n",
       "      <td>560687.83</td>\n",
       "      <td>0.000000</td>\n",
       "      <td>-0.113732</td>\n",
       "      <td>0</td>\n",
       "      <td>0</td>\n",
       "      <td>0</td>\n",
       "      <td>0</td>\n",
       "    </tr>\n",
       "    <tr>\n",
       "      <th>10085618</th>\n",
       "      <td>-1.080972</td>\n",
       "      <td>-0.100533</td>\n",
       "      <td>0.004009</td>\n",
       "      <td>0.00</td>\n",
       "      <td>1.277467</td>\n",
       "      <td>0.597951</td>\n",
       "      <td>1</td>\n",
       "      <td>0</td>\n",
       "      <td>0</td>\n",
       "      <td>0</td>\n",
       "    </tr>\n",
       "  </tbody>\n",
       "</table>\n",
       "</div>"
      ],
      "text/plain": [
       "              step    amount  oldbalanceOrg  newbalanceOrig  oldbalanceDest  \\\n",
       "6778874  -1.048583  0.236053       0.219542            0.00        1.865275   \n",
       "12540449 -0.421053  2.623441       1.748311            0.00        0.000000   \n",
       "8720626   1.453441 -0.277012      -0.109000            0.00        0.000000   \n",
       "3224522  -0.133603  0.758325      -0.142745       560687.83        0.000000   \n",
       "10085618 -1.080972 -0.100533       0.004009            0.00        1.277467   \n",
       "\n",
       "          newbalanceDest  type_CASH_OUT  type_DEBIT  type_PAYMENT  \\\n",
       "6778874         1.031725              1           0             0   \n",
       "12540449       -0.113732              0           0             0   \n",
       "8720626        -0.083754              1           0             0   \n",
       "3224522        -0.113732              0           0             0   \n",
       "10085618        0.597951              1           0             0   \n",
       "\n",
       "          type_TRANSFER  \n",
       "6778874               0  \n",
       "12540449              1  \n",
       "8720626               0  \n",
       "3224522               0  \n",
       "10085618              0  "
      ]
     },
     "execution_count": 44,
     "metadata": {},
     "output_type": "execute_result"
    }
   ],
   "source": [
    "# Using RobustScaler to scale down the numerical features as RobustScaler is less prone to outliers\n",
    "\n",
    "from sklearn.preprocessing import RobustScaler\n",
    "\n",
    "numerical = ['step','amount','oldbalanceOrg','newbalanceOrig','oldbalanceDest','newbalanceDest']\n",
    "\n",
    "scale=RobustScaler()\n",
    "\n",
    "for feature in numerical:\n",
    "    X_train[feature]=scale.fit_transform(X_train[feature].values.reshape(-1, 1))\n",
    "\n",
    "X_train.head()"
   ]
  },
  {
   "cell_type": "code",
   "execution_count": 45,
   "id": "ce021088",
   "metadata": {},
   "outputs": [],
   "source": [
    "corr = X_res.corr()"
   ]
  },
  {
   "cell_type": "code",
   "execution_count": 46,
   "id": "2b6b8a21",
   "metadata": {},
   "outputs": [
    {
     "data": {
      "text/html": [
       "<style type=\"text/css\">\n",
       "#T_434ca_row0_col0, #T_434ca_row1_col1, #T_434ca_row2_col2, #T_434ca_row3_col3, #T_434ca_row4_col4, #T_434ca_row5_col5, #T_434ca_row6_col6, #T_434ca_row7_col7, #T_434ca_row8_col8, #T_434ca_row9_col9 {\n",
       "  background-color: #b40426;\n",
       "  color: #f1f1f1;\n",
       "}\n",
       "#T_434ca_row0_col1 {\n",
       "  background-color: #9abbff;\n",
       "  color: #000000;\n",
       "}\n",
       "#T_434ca_row0_col2, #T_434ca_row6_col1 {\n",
       "  background-color: #7da0f9;\n",
       "  color: #f1f1f1;\n",
       "}\n",
       "#T_434ca_row0_col3 {\n",
       "  background-color: #6384eb;\n",
       "  color: #f1f1f1;\n",
       "}\n",
       "#T_434ca_row0_col4 {\n",
       "  background-color: #5673e0;\n",
       "  color: #f1f1f1;\n",
       "}\n",
       "#T_434ca_row0_col5 {\n",
       "  background-color: #6b8df0;\n",
       "  color: #f1f1f1;\n",
       "}\n",
       "#T_434ca_row0_col6 {\n",
       "  background-color: #bbd1f8;\n",
       "  color: #000000;\n",
       "}\n",
       "#T_434ca_row0_col7, #T_434ca_row2_col7 {\n",
       "  background-color: #4358cb;\n",
       "  color: #f1f1f1;\n",
       "}\n",
       "#T_434ca_row0_col8, #T_434ca_row4_col1 {\n",
       "  background-color: #7396f5;\n",
       "  color: #f1f1f1;\n",
       "}\n",
       "#T_434ca_row0_col9 {\n",
       "  background-color: #cfdaea;\n",
       "  color: #000000;\n",
       "}\n",
       "#T_434ca_row1_col0, #T_434ca_row1_col3, #T_434ca_row9_col0 {\n",
       "  background-color: #8fb1fe;\n",
       "  color: #000000;\n",
       "}\n",
       "#T_434ca_row1_col2 {\n",
       "  background-color: #f7af91;\n",
       "  color: #000000;\n",
       "}\n",
       "#T_434ca_row1_col4, #T_434ca_row2_col4, #T_434ca_row7_col0, #T_434ca_row7_col4 {\n",
       "  background-color: #5d7ce6;\n",
       "  color: #f1f1f1;\n",
       "}\n",
       "#T_434ca_row1_col5 {\n",
       "  background-color: #b6cefa;\n",
       "  color: #000000;\n",
       "}\n",
       "#T_434ca_row1_col6 {\n",
       "  background-color: #bcd2f7;\n",
       "  color: #000000;\n",
       "}\n",
       "#T_434ca_row1_col7, #T_434ca_row8_col7, #T_434ca_row9_col4, #T_434ca_row9_col5 {\n",
       "  background-color: #4055c8;\n",
       "  color: #f1f1f1;\n",
       "}\n",
       "#T_434ca_row1_col8, #T_434ca_row3_col4, #T_434ca_row3_col5 {\n",
       "  background-color: #6687ed;\n",
       "  color: #f1f1f1;\n",
       "}\n",
       "#T_434ca_row1_col9 {\n",
       "  background-color: #d8dce2;\n",
       "  color: #000000;\n",
       "}\n",
       "#T_434ca_row2_col0, #T_434ca_row4_col3 {\n",
       "  background-color: #779af7;\n",
       "  color: #f1f1f1;\n",
       "}\n",
       "#T_434ca_row2_col1 {\n",
       "  background-color: #f7ac8e;\n",
       "  color: #000000;\n",
       "}\n",
       "#T_434ca_row2_col3, #T_434ca_row3_col2 {\n",
       "  background-color: #e36c55;\n",
       "  color: #f1f1f1;\n",
       "}\n",
       "#T_434ca_row2_col5 {\n",
       "  background-color: #88abfd;\n",
       "  color: #000000;\n",
       "}\n",
       "#T_434ca_row2_col6 {\n",
       "  background-color: #9dbdff;\n",
       "  color: #000000;\n",
       "}\n",
       "#T_434ca_row2_col8, #T_434ca_row6_col0 {\n",
       "  background-color: #6e90f2;\n",
       "  color: #f1f1f1;\n",
       "}\n",
       "#T_434ca_row2_col9 {\n",
       "  background-color: #c0d4f5;\n",
       "  color: #000000;\n",
       "}\n",
       "#T_434ca_row3_col0, #T_434ca_row9_col3 {\n",
       "  background-color: #5b7ae5;\n",
       "  color: #f1f1f1;\n",
       "}\n",
       "#T_434ca_row3_col1 {\n",
       "  background-color: #93b5fe;\n",
       "  color: #000000;\n",
       "}\n",
       "#T_434ca_row3_col6 {\n",
       "  background-color: #89acfd;\n",
       "  color: #000000;\n",
       "}\n",
       "#T_434ca_row3_col7 {\n",
       "  background-color: #455cce;\n",
       "  color: #f1f1f1;\n",
       "}\n",
       "#T_434ca_row3_col8 {\n",
       "  background-color: #82a6fb;\n",
       "  color: #f1f1f1;\n",
       "}\n",
       "#T_434ca_row3_col9, #T_434ca_row7_col6 {\n",
       "  background-color: #a6c4fe;\n",
       "  color: #000000;\n",
       "}\n",
       "#T_434ca_row4_col0 {\n",
       "  background-color: #5f7fe8;\n",
       "  color: #f1f1f1;\n",
       "}\n",
       "#T_434ca_row4_col2, #T_434ca_row5_col0 {\n",
       "  background-color: #6a8bef;\n",
       "  color: #f1f1f1;\n",
       "}\n",
       "#T_434ca_row4_col5, #T_434ca_row5_col4 {\n",
       "  background-color: #cc403a;\n",
       "  color: #f1f1f1;\n",
       "}\n",
       "#T_434ca_row4_col6 {\n",
       "  background-color: #c9d7f0;\n",
       "  color: #000000;\n",
       "}\n",
       "#T_434ca_row4_col7, #T_434ca_row6_col2 {\n",
       "  background-color: #4b64d5;\n",
       "  color: #f1f1f1;\n",
       "}\n",
       "#T_434ca_row4_col8 {\n",
       "  background-color: #7b9ff9;\n",
       "  color: #f1f1f1;\n",
       "}\n",
       "#T_434ca_row4_col9 {\n",
       "  background-color: #9ebeff;\n",
       "  color: #000000;\n",
       "}\n",
       "#T_434ca_row5_col1 {\n",
       "  background-color: #bed2f6;\n",
       "  color: #000000;\n",
       "}\n",
       "#T_434ca_row5_col2 {\n",
       "  background-color: #8caffe;\n",
       "  color: #000000;\n",
       "}\n",
       "#T_434ca_row5_col3 {\n",
       "  background-color: #6c8ff1;\n",
       "  color: #f1f1f1;\n",
       "}\n",
       "#T_434ca_row5_col6 {\n",
       "  background-color: #dbdcde;\n",
       "  color: #000000;\n",
       "}\n",
       "#T_434ca_row5_col7 {\n",
       "  background-color: #4961d2;\n",
       "  color: #f1f1f1;\n",
       "}\n",
       "#T_434ca_row5_col8 {\n",
       "  background-color: #7295f4;\n",
       "  color: #f1f1f1;\n",
       "}\n",
       "#T_434ca_row5_col9 {\n",
       "  background-color: #96b7ff;\n",
       "  color: #000000;\n",
       "}\n",
       "#T_434ca_row6_col3, #T_434ca_row6_col7, #T_434ca_row6_col8, #T_434ca_row6_col9, #T_434ca_row8_col0, #T_434ca_row8_col1, #T_434ca_row8_col2, #T_434ca_row8_col4, #T_434ca_row8_col5, #T_434ca_row9_col6 {\n",
       "  background-color: #3b4cc0;\n",
       "  color: #f1f1f1;\n",
       "}\n",
       "#T_434ca_row6_col4, #T_434ca_row9_col2 {\n",
       "  background-color: #7a9df8;\n",
       "  color: #f1f1f1;\n",
       "}\n",
       "#T_434ca_row6_col5 {\n",
       "  background-color: #a5c3fe;\n",
       "  color: #000000;\n",
       "}\n",
       "#T_434ca_row7_col1, #T_434ca_row7_col3 {\n",
       "  background-color: #6788ee;\n",
       "  color: #f1f1f1;\n",
       "}\n",
       "#T_434ca_row7_col2 {\n",
       "  background-color: #6180e9;\n",
       "  color: #f1f1f1;\n",
       "}\n",
       "#T_434ca_row7_col5 {\n",
       "  background-color: #6485ec;\n",
       "  color: #f1f1f1;\n",
       "}\n",
       "#T_434ca_row7_col8 {\n",
       "  background-color: #90b2fe;\n",
       "  color: #000000;\n",
       "}\n",
       "#T_434ca_row7_col9 {\n",
       "  background-color: #aac7fd;\n",
       "  color: #000000;\n",
       "}\n",
       "#T_434ca_row8_col3 {\n",
       "  background-color: #536edd;\n",
       "  color: #f1f1f1;\n",
       "}\n",
       "#T_434ca_row8_col6 {\n",
       "  background-color: #5a78e4;\n",
       "  color: #f1f1f1;\n",
       "}\n",
       "#T_434ca_row8_col9 {\n",
       "  background-color: #7093f3;\n",
       "  color: #f1f1f1;\n",
       "}\n",
       "#T_434ca_row9_col1 {\n",
       "  background-color: #a9c6fd;\n",
       "  color: #000000;\n",
       "}\n",
       "#T_434ca_row9_col7 {\n",
       "  background-color: #3e51c5;\n",
       "  color: #f1f1f1;\n",
       "}\n",
       "#T_434ca_row9_col8 {\n",
       "  background-color: #506bda;\n",
       "  color: #f1f1f1;\n",
       "}\n",
       "</style>\n",
       "<table id=\"T_434ca\">\n",
       "  <thead>\n",
       "    <tr>\n",
       "      <th class=\"blank level0\" >&nbsp;</th>\n",
       "      <th id=\"T_434ca_level0_col0\" class=\"col_heading level0 col0\" >step</th>\n",
       "      <th id=\"T_434ca_level0_col1\" class=\"col_heading level0 col1\" >amount</th>\n",
       "      <th id=\"T_434ca_level0_col2\" class=\"col_heading level0 col2\" >oldbalanceOrg</th>\n",
       "      <th id=\"T_434ca_level0_col3\" class=\"col_heading level0 col3\" >newbalanceOrig</th>\n",
       "      <th id=\"T_434ca_level0_col4\" class=\"col_heading level0 col4\" >oldbalanceDest</th>\n",
       "      <th id=\"T_434ca_level0_col5\" class=\"col_heading level0 col5\" >newbalanceDest</th>\n",
       "      <th id=\"T_434ca_level0_col6\" class=\"col_heading level0 col6\" >type_CASH_OUT</th>\n",
       "      <th id=\"T_434ca_level0_col7\" class=\"col_heading level0 col7\" >type_DEBIT</th>\n",
       "      <th id=\"T_434ca_level0_col8\" class=\"col_heading level0 col8\" >type_PAYMENT</th>\n",
       "      <th id=\"T_434ca_level0_col9\" class=\"col_heading level0 col9\" >type_TRANSFER</th>\n",
       "    </tr>\n",
       "  </thead>\n",
       "  <tbody>\n",
       "    <tr>\n",
       "      <th id=\"T_434ca_level0_row0\" class=\"row_heading level0 row0\" >step</th>\n",
       "      <td id=\"T_434ca_row0_col0\" class=\"data row0 col0\" >1.000000</td>\n",
       "      <td id=\"T_434ca_row0_col1\" class=\"data row0 col1\" >0.148622</td>\n",
       "      <td id=\"T_434ca_row0_col2\" class=\"data row0 col2\" >0.075284</td>\n",
       "      <td id=\"T_434ca_row0_col3\" class=\"data row0 col3\" >-0.021656</td>\n",
       "      <td id=\"T_434ca_row0_col4\" class=\"data row0 col4\" >-0.006265</td>\n",
       "      <td id=\"T_434ca_row0_col5\" class=\"data row0 col5\" >0.027519</td>\n",
       "      <td id=\"T_434ca_row0_col6\" class=\"data row0 col6\" >0.042529</td>\n",
       "      <td id=\"T_434ca_row0_col7\" class=\"data row0 col7\" >-0.016959</td>\n",
       "      <td id=\"T_434ca_row0_col8\" class=\"data row0 col8\" >-0.143340</td>\n",
       "      <td id=\"T_434ca_row0_col9\" class=\"data row0 col9\" >0.151003</td>\n",
       "    </tr>\n",
       "    <tr>\n",
       "      <th id=\"T_434ca_level0_row1\" class=\"row_heading level0 row1\" >amount</th>\n",
       "      <td id=\"T_434ca_row1_col0\" class=\"data row1 col0\" >0.148622</td>\n",
       "      <td id=\"T_434ca_row1_col1\" class=\"data row1 col1\" >1.000000</td>\n",
       "      <td id=\"T_434ca_row1_col2\" class=\"data row1 col2\" >0.643686</td>\n",
       "      <td id=\"T_434ca_row1_col3\" class=\"data row1 col3\" >0.123003</td>\n",
       "      <td id=\"T_434ca_row1_col4\" class=\"data row1 col4\" >0.015135</td>\n",
       "      <td id=\"T_434ca_row1_col5\" class=\"data row1 col5\" >0.274134</td>\n",
       "      <td id=\"T_434ca_row1_col6\" class=\"data row1 col6\" >0.048601</td>\n",
       "      <td id=\"T_434ca_row1_col7\" class=\"data row1 col7\" >-0.025056</td>\n",
       "      <td id=\"T_434ca_row1_col8\" class=\"data row1 col8\" >-0.195944</td>\n",
       "      <td id=\"T_434ca_row1_col9\" class=\"data row1 col9\" >0.196981</td>\n",
       "    </tr>\n",
       "    <tr>\n",
       "      <th id=\"T_434ca_level0_row2\" class=\"row_heading level0 row2\" >oldbalanceOrg</th>\n",
       "      <td id=\"T_434ca_row2_col0\" class=\"data row2 col0\" >0.075284</td>\n",
       "      <td id=\"T_434ca_row2_col1\" class=\"data row2 col1\" >0.643686</td>\n",
       "      <td id=\"T_434ca_row2_col2\" class=\"data row2 col2\" >1.000000</td>\n",
       "      <td id=\"T_434ca_row2_col3\" class=\"data row2 col3\" >0.825067</td>\n",
       "      <td id=\"T_434ca_row2_col4\" class=\"data row2 col4\" >0.012266</td>\n",
       "      <td id=\"T_434ca_row2_col5\" class=\"data row2 col5\" >0.123660</td>\n",
       "      <td id=\"T_434ca_row2_col6\" class=\"data row2 col6\" >-0.097164</td>\n",
       "      <td id=\"T_434ca_row2_col7\" class=\"data row2 col7\" >-0.020571</td>\n",
       "      <td id=\"T_434ca_row2_col8\" class=\"data row2 col8\" >-0.162434</td>\n",
       "      <td id=\"T_434ca_row2_col9\" class=\"data row2 col9\" >0.067744</td>\n",
       "    </tr>\n",
       "    <tr>\n",
       "      <th id=\"T_434ca_level0_row3\" class=\"row_heading level0 row3\" >newbalanceOrig</th>\n",
       "      <td id=\"T_434ca_row3_col0\" class=\"data row3 col0\" >-0.021656</td>\n",
       "      <td id=\"T_434ca_row3_col1\" class=\"data row3 col1\" >0.123003</td>\n",
       "      <td id=\"T_434ca_row3_col2\" class=\"data row3 col2\" >0.825067</td>\n",
       "      <td id=\"T_434ca_row3_col3\" class=\"data row3 col3\" >1.000000</td>\n",
       "      <td id=\"T_434ca_row3_col4\" class=\"data row3 col4\" >0.044590</td>\n",
       "      <td id=\"T_434ca_row3_col5\" class=\"data row3 col5\" >0.009780</td>\n",
       "      <td id=\"T_434ca_row3_col6\" class=\"data row3 col6\" >-0.177222</td>\n",
       "      <td id=\"T_434ca_row3_col7\" class=\"data row3 col7\" >-0.010438</td>\n",
       "      <td id=\"T_434ca_row3_col8\" class=\"data row3 col8\" >-0.082987</td>\n",
       "      <td id=\"T_434ca_row3_col9\" class=\"data row3 col9\" >-0.049162</td>\n",
       "    </tr>\n",
       "    <tr>\n",
       "      <th id=\"T_434ca_level0_row4\" class=\"row_heading level0 row4\" >oldbalanceDest</th>\n",
       "      <td id=\"T_434ca_row4_col0\" class=\"data row4 col0\" >-0.006265</td>\n",
       "      <td id=\"T_434ca_row4_col1\" class=\"data row4 col1\" >0.015135</td>\n",
       "      <td id=\"T_434ca_row4_col2\" class=\"data row4 col2\" >0.012266</td>\n",
       "      <td id=\"T_434ca_row4_col3\" class=\"data row4 col3\" >0.044590</td>\n",
       "      <td id=\"T_434ca_row4_col4\" class=\"data row4 col4\" >1.000000</td>\n",
       "      <td id=\"T_434ca_row4_col5\" class=\"data row4 col5\" >0.922454</td>\n",
       "      <td id=\"T_434ca_row4_col6\" class=\"data row4 col6\" >0.110576</td>\n",
       "      <td id=\"T_434ca_row4_col7\" class=\"data row4 col7\" >0.011384</td>\n",
       "      <td id=\"T_434ca_row4_col8\" class=\"data row4 col8\" >-0.110249</td>\n",
       "      <td id=\"T_434ca_row4_col9\" class=\"data row4 col9\" >-0.085881</td>\n",
       "    </tr>\n",
       "    <tr>\n",
       "      <th id=\"T_434ca_level0_row5\" class=\"row_heading level0 row5\" >newbalanceDest</th>\n",
       "      <td id=\"T_434ca_row5_col0\" class=\"data row5 col0\" >0.027519</td>\n",
       "      <td id=\"T_434ca_row5_col1\" class=\"data row5 col1\" >0.274134</td>\n",
       "      <td id=\"T_434ca_row5_col2\" class=\"data row5 col2\" >0.123660</td>\n",
       "      <td id=\"T_434ca_row5_col3\" class=\"data row5 col3\" >0.009780</td>\n",
       "      <td id=\"T_434ca_row5_col4\" class=\"data row5 col4\" >0.922454</td>\n",
       "      <td id=\"T_434ca_row5_col5\" class=\"data row5 col5\" >1.000000</td>\n",
       "      <td id=\"T_434ca_row5_col6\" class=\"data row5 col6\" >0.214855</td>\n",
       "      <td id=\"T_434ca_row5_col7\" class=\"data row5 col7\" >0.003934</td>\n",
       "      <td id=\"T_434ca_row5_col8\" class=\"data row5 col8\" >-0.149468</td>\n",
       "      <td id=\"T_434ca_row5_col9\" class=\"data row5 col9\" >-0.124766</td>\n",
       "    </tr>\n",
       "    <tr>\n",
       "      <th id=\"T_434ca_level0_row6\" class=\"row_heading level0 row6\" >type_CASH_OUT</th>\n",
       "      <td id=\"T_434ca_row6_col0\" class=\"data row6 col0\" >0.042529</td>\n",
       "      <td id=\"T_434ca_row6_col1\" class=\"data row6 col1\" >0.048601</td>\n",
       "      <td id=\"T_434ca_row6_col2\" class=\"data row6 col2\" >-0.097164</td>\n",
       "      <td id=\"T_434ca_row6_col3\" class=\"data row6 col3\" >-0.177222</td>\n",
       "      <td id=\"T_434ca_row6_col4\" class=\"data row6 col4\" >0.110576</td>\n",
       "      <td id=\"T_434ca_row6_col5\" class=\"data row6 col5\" >0.214855</td>\n",
       "      <td id=\"T_434ca_row6_col6\" class=\"data row6 col6\" >1.000000</td>\n",
       "      <td id=\"T_434ca_row6_col7\" class=\"data row6 col7\" >-0.049311</td>\n",
       "      <td id=\"T_434ca_row6_col8\" class=\"data row6 col8\" >-0.389236</td>\n",
       "      <td id=\"T_434ca_row6_col9\" class=\"data row6 col9\" >-0.552289</td>\n",
       "    </tr>\n",
       "    <tr>\n",
       "      <th id=\"T_434ca_level0_row7\" class=\"row_heading level0 row7\" >type_DEBIT</th>\n",
       "      <td id=\"T_434ca_row7_col0\" class=\"data row7 col0\" >-0.016959</td>\n",
       "      <td id=\"T_434ca_row7_col1\" class=\"data row7 col1\" >-0.025056</td>\n",
       "      <td id=\"T_434ca_row7_col2\" class=\"data row7 col2\" >-0.020571</td>\n",
       "      <td id=\"T_434ca_row7_col3\" class=\"data row7 col3\" >-0.010438</td>\n",
       "      <td id=\"T_434ca_row7_col4\" class=\"data row7 col4\" >0.011384</td>\n",
       "      <td id=\"T_434ca_row7_col5\" class=\"data row7 col5\" >0.003934</td>\n",
       "      <td id=\"T_434ca_row7_col6\" class=\"data row7 col6\" >-0.049311</td>\n",
       "      <td id=\"T_434ca_row7_col7\" class=\"data row7 col7\" >1.000000</td>\n",
       "      <td id=\"T_434ca_row7_col8\" class=\"data row7 col8\" >-0.025818</td>\n",
       "      <td id=\"T_434ca_row7_col9\" class=\"data row7 col9\" >-0.036633</td>\n",
       "    </tr>\n",
       "    <tr>\n",
       "      <th id=\"T_434ca_level0_row8\" class=\"row_heading level0 row8\" >type_PAYMENT</th>\n",
       "      <td id=\"T_434ca_row8_col0\" class=\"data row8 col0\" >-0.143340</td>\n",
       "      <td id=\"T_434ca_row8_col1\" class=\"data row8 col1\" >-0.195944</td>\n",
       "      <td id=\"T_434ca_row8_col2\" class=\"data row8 col2\" >-0.162434</td>\n",
       "      <td id=\"T_434ca_row8_col3\" class=\"data row8 col3\" >-0.082987</td>\n",
       "      <td id=\"T_434ca_row8_col4\" class=\"data row8 col4\" >-0.110249</td>\n",
       "      <td id=\"T_434ca_row8_col5\" class=\"data row8 col5\" >-0.149468</td>\n",
       "      <td id=\"T_434ca_row8_col6\" class=\"data row8 col6\" >-0.389236</td>\n",
       "      <td id=\"T_434ca_row8_col7\" class=\"data row8 col7\" >-0.025818</td>\n",
       "      <td id=\"T_434ca_row8_col8\" class=\"data row8 col8\" >1.000000</td>\n",
       "      <td id=\"T_434ca_row8_col9\" class=\"data row8 col9\" >-0.289161</td>\n",
       "    </tr>\n",
       "    <tr>\n",
       "      <th id=\"T_434ca_level0_row9\" class=\"row_heading level0 row9\" >type_TRANSFER</th>\n",
       "      <td id=\"T_434ca_row9_col0\" class=\"data row9 col0\" >0.151003</td>\n",
       "      <td id=\"T_434ca_row9_col1\" class=\"data row9 col1\" >0.196981</td>\n",
       "      <td id=\"T_434ca_row9_col2\" class=\"data row9 col2\" >0.067744</td>\n",
       "      <td id=\"T_434ca_row9_col3\" class=\"data row9 col3\" >-0.049162</td>\n",
       "      <td id=\"T_434ca_row9_col4\" class=\"data row9 col4\" >-0.085881</td>\n",
       "      <td id=\"T_434ca_row9_col5\" class=\"data row9 col5\" >-0.124766</td>\n",
       "      <td id=\"T_434ca_row9_col6\" class=\"data row9 col6\" >-0.552289</td>\n",
       "      <td id=\"T_434ca_row9_col7\" class=\"data row9 col7\" >-0.036633</td>\n",
       "      <td id=\"T_434ca_row9_col8\" class=\"data row9 col8\" >-0.289161</td>\n",
       "      <td id=\"T_434ca_row9_col9\" class=\"data row9 col9\" >1.000000</td>\n",
       "    </tr>\n",
       "  </tbody>\n",
       "</table>\n"
      ],
      "text/plain": [
       "<pandas.io.formats.style.Styler at 0x1d469e685e0>"
      ]
     },
     "execution_count": 46,
     "metadata": {},
     "output_type": "execute_result"
    }
   ],
   "source": [
    "# Plotting the each indipendent feature correlation\n",
    "\n",
    "corr.style.background_gradient(cmap='coolwarm')"
   ]
  },
  {
   "cell_type": "markdown",
   "id": "10dfa05d",
   "metadata": {},
   "source": [
    "#### Training the first model"
   ]
  },
  {
   "cell_type": "markdown",
   "id": "556fb9c0",
   "metadata": {},
   "source": [
    "#### We will be training a Logistic Regression model"
   ]
  },
  {
   "cell_type": "code",
   "execution_count": 47,
   "id": "8ff4b14e",
   "metadata": {},
   "outputs": [],
   "source": [
    "# \n",
    "\n",
    "from sklearn.linear_model import LogisticRegression\n",
    "from sklearn.tree import DecisionTreeClassifier\n",
    "from sklearn.ensemble import RandomForestClassifier\n",
    "\n",
    "models = {'LR': LogisticRegression(), 'DTC': DecisionTreeClassifier(), 'RFC': RandomForestClassifier()}"
   ]
  },
  {
   "cell_type": "code",
   "execution_count": null,
   "id": "d26a91bb",
   "metadata": {},
   "outputs": [
    {
     "name": "stdout",
     "output_type": "stream",
     "text": [
      "LR\n",
      "Model perfoirmance for train set\n",
      "Accuracy: 0.8232\n",
      "F1 Score: 0.8218\n",
      "Precision: 0.8926\n",
      "Recall: 0.7346\n",
      "------------------------------------------------\n",
      "Model perfoirmance for test set\n",
      "Accuracy: 0.7545\n",
      "F1 Score: 0.7493\n",
      "Precision: 0.6976\n",
      "Recall: 0.8991\n",
      "DTC\n",
      "Model perfoirmance for train set\n",
      "Accuracy: 1.0000\n",
      "F1 Score: 1.0000\n",
      "Precision: 1.0000\n",
      "Recall: 1.0000\n",
      "------------------------------------------------\n",
      "Model perfoirmance for test set\n",
      "Accuracy: 0.5093\n",
      "F1 Score: 0.3540\n",
      "Precision: 0.9999\n",
      "Recall: 0.0192\n"
     ]
    }
   ],
   "source": [
    "for i in range (len(list(models))):\n",
    "    model = list(models.values())[i]\n",
    "    model.fit(X_train, y_train)\n",
    "    \n",
    "    y_train_pred = model.predict(X_train)\n",
    "    y_test_pred = model.predict(X_test)\n",
    "    \n",
    "    model_train_accuracy = accuracy_score(y_train, y_train_pred)\n",
    "    model_train_f1 = f1_score(y_train, y_train_pred, average = 'weighted')\n",
    "    model_train_precision = precision_score (y_train, y_train_pred)\n",
    "    model_train_recall = recall_score(y_train, y_train_pred)\n",
    "    model_train_rocauc_score = roc_auc_score(y_train, y_train_pred)\n",
    "    \n",
    "    \n",
    "    model_test_accuracy = accuracy_score(y_test, y_test_pred)\n",
    "    model_test_f1 = f1_score(y_test, y_test_pred, average = 'weighted')\n",
    "    model_test_precision = precision_score (y_test, y_test_pred)\n",
    "    model_test_recall = recall_score(y_test, y_test_pred)\n",
    "    model_test_rocauc_score = roc_auc_score(y_test, y_test_pred)\n",
    "    \n",
    "    \n",
    "    print (list(models.keys())[i])\n",
    "    \n",
    "    print ('Model perfoirmance for train set')\n",
    "    print ('Accuracy: {:.4f}'.format(model_train_accuracy))\n",
    "    print ('F1 Score: {:.4f}'.format(model_train_f1))\n",
    "    print ('Precision: {:.4f}'.format(model_train_precision))\n",
    "    print ('Recall: {:.4f}'.format(model_train_recall))\n",
    "    \n",
    "    print('------------------------------------------------')\n",
    "    \n",
    "    print ('Model perfoirmance for test set')\n",
    "    print ('Accuracy: {:.4f}'.format(model_test_accuracy))\n",
    "    print ('F1 Score: {:.4f}'.format(model_test_f1))\n",
    "    print ('Precision: {:.4f}'.format(model_test_precision))\n",
    "    print ('Recall: {:.4f}'.format(model_test_recall))"
   ]
  },
  {
   "cell_type": "code",
   "execution_count": null,
   "id": "18e168fe",
   "metadata": {},
   "outputs": [],
   "source": []
  },
  {
   "cell_type": "code",
   "execution_count": null,
   "id": "f6d6b14f",
   "metadata": {},
   "outputs": [],
   "source": []
  },
  {
   "cell_type": "code",
   "execution_count": null,
   "id": "c7e4757b",
   "metadata": {},
   "outputs": [],
   "source": []
  },
  {
   "cell_type": "code",
   "execution_count": null,
   "id": "7f2a83fc",
   "metadata": {},
   "outputs": [],
   "source": []
  },
  {
   "cell_type": "code",
   "execution_count": null,
   "id": "b1125108",
   "metadata": {},
   "outputs": [],
   "source": []
  },
  {
   "cell_type": "code",
   "execution_count": null,
   "id": "753008da",
   "metadata": {},
   "outputs": [],
   "source": []
  },
  {
   "cell_type": "code",
   "execution_count": null,
   "id": "d3c1fab6",
   "metadata": {},
   "outputs": [],
   "source": [
    "#from sklearn.model_selection import StratifiedKFold\n",
    "#skf=StratifiedKFold(n_splits=3, shuffle=False, random_state=None)"
   ]
  },
  {
   "cell_type": "code",
   "execution_count": null,
   "id": "63ba2ef2",
   "metadata": {
    "scrolled": true
   },
   "outputs": [],
   "source": [
    "# from sklearn.model_selection import RandomizedSearchCV\n",
    "\n",
    "# classifier=LogisticRegression()\n",
    "\n",
    "# param={'C':10.0 **np.arange(-1,2)}\n",
    "#lrs=RandomizedSearchCV(classifier, param,cv=skf,n_jobs=-1,scoring='accuracy')\n",
    "#lrs.fit(X_train,y_train)"
   ]
  },
  {
   "cell_type": "code",
   "execution_count": null,
   "id": "19ff84c3",
   "metadata": {},
   "outputs": [],
   "source": []
  },
  {
   "cell_type": "code",
   "execution_count": null,
   "id": "34b18a8d",
   "metadata": {},
   "outputs": [],
   "source": []
  },
  {
   "cell_type": "code",
   "execution_count": null,
   "id": "12c32998",
   "metadata": {},
   "outputs": [],
   "source": []
  },
  {
   "cell_type": "code",
   "execution_count": null,
   "id": "b3035229",
   "metadata": {},
   "outputs": [],
   "source": [
    "#y_pred = classifier.predict(X_test)"
   ]
  },
  {
   "cell_type": "code",
   "execution_count": null,
   "id": "c0f5cf24",
   "metadata": {},
   "outputs": [],
   "source": [
    "#from sklearn.metrics import accuracy_score, classification_report, \\\n",
    "    #confusion_matrix, precision_score, recall_score, f1_score, roc_auc_score, roc_curve"
   ]
  },
  {
   "cell_type": "code",
   "execution_count": null,
   "id": "0d8e4a56",
   "metadata": {},
   "outputs": [],
   "source": [
    "#accuracy = accuracy_score(y_pred, y_test)"
   ]
  },
  {
   "cell_type": "code",
   "execution_count": null,
   "id": "3b43750f",
   "metadata": {},
   "outputs": [],
   "source": [
    "#accuracy"
   ]
  },
  {
   "cell_type": "code",
   "execution_count": null,
   "id": "9f0b2f1d",
   "metadata": {},
   "outputs": [],
   "source": [
    "#print(classification_report(y_pred, y_test))"
   ]
  },
  {
   "cell_type": "code",
   "execution_count": null,
   "id": "51172b44",
   "metadata": {},
   "outputs": [],
   "source": []
  },
  {
   "cell_type": "code",
   "execution_count": null,
   "id": "0df2049a",
   "metadata": {},
   "outputs": [],
   "source": []
  },
  {
   "cell_type": "code",
   "execution_count": null,
   "id": "72fd2915",
   "metadata": {},
   "outputs": [],
   "source": []
  }
 ],
 "metadata": {
  "kernelspec": {
   "display_name": "Python 3 (ipykernel)",
   "language": "python",
   "name": "python3"
  },
  "language_info": {
   "codemirror_mode": {
    "name": "ipython",
    "version": 3
   },
   "file_extension": ".py",
   "mimetype": "text/x-python",
   "name": "python",
   "nbconvert_exporter": "python",
   "pygments_lexer": "ipython3",
   "version": "3.9.12"
  }
 },
 "nbformat": 4,
 "nbformat_minor": 5
}
